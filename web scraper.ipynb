{
 "cells": [
  {
   "cell_type": "code",
   "execution_count": 2,
   "metadata": {
    "_cell_guid": "b1076dfc-b9ad-4769-8c92-a6c4dae69d19",
    "_uuid": "8f2839f25d086af736a60e9eeb907d3b93b6e0e5",
    "colab": {},
    "colab_type": "code",
    "id": "WAoZi6Mlg121",
    "pycharm": {
     "name": "#%%\n"
    }
   },
   "outputs": [],
   "source": [
    "import numpy as np # linear algebra\n",
    "import pandas as pd # data processing, CSV file I/O (e.g. pd.read_csv)\n",
    "import requests\n",
    "from bs4 import BeautifulSoup"
   ]
  },
  {
   "cell_type": "code",
   "execution_count": 3,
   "metadata": {
    "_cell_guid": "79c7e3d0-c299-4dcb-8224-4455121ee9b0",
    "_uuid": "d629ff2d2480ee46fbb7e2d37f6b5fab8052498a",
    "colab": {},
    "colab_type": "code",
    "id": "5GdbwW7Tg127",
    "pycharm": {
     "name": "#%%\n"
    }
   },
   "outputs": [],
   "source": [
    "\n",
    "base_url = 'https://understat.com/league'\n",
    "leagues = ['La_liga', 'EPL', 'Bundesliga', 'Serie_A', 'Ligue_1']\n",
    "seasons = ['2014', '2015', '2016', '2017', '2018','2019','2020','2021']"
   ]
  },
  {
   "cell_type": "code",
   "execution_count": 4,
   "metadata": {
    "colab": {},
    "colab_type": "code",
    "id": "iXPittjCP4V6",
    "pycharm": {
     "name": "#%%\n"
    }
   },
   "outputs": [],
   "source": [
    "\n",
    "url = base_url+'/'+leagues[0]+'/'+seasons[4]\n",
    "res = requests.get(url)\n",
    "soup = BeautifulSoup(res.content, \"lxml\")\n",
    "\n",
    "\n",
    "scripts = soup.find_all('script')\n"
   ]
  },
  {
   "cell_type": "code",
   "execution_count": 5,
   "metadata": {
    "colab": {},
    "colab_type": "code",
    "id": "rkB-izz7aTtK",
    "pycharm": {
     "name": "#%%\n"
    }
   },
   "outputs": [],
   "source": [
    "import json\n",
    "\n",
    "string_with_json_obj = ''\n",
    "\n",
    "\n",
    "for el in scripts:\n",
    "    if 'teamsData' in str(el):\n",
    "      string_with_json_obj = str(el).strip()\n",
    "      \n",
    "\n",
    "ind_start = string_with_json_obj.index(\"('\")+2\n",
    "ind_end = string_with_json_obj.index(\"')\")\n",
    "json_data = string_with_json_obj[ind_start:ind_end]\n",
    "\n",
    "json_data = json_data.encode('utf8').decode('unicode_escape')"
   ]
  },
  {
   "cell_type": "code",
   "execution_count": 6,
   "metadata": {
    "colab": {
     "base_uri": "https://localhost:8080/",
     "height": 201
    },
    "colab_type": "code",
    "id": "vTs5rZ8GG-BH",
    "outputId": "94819da3-5b2b-4d18-ebf7-963b4bd2bffc",
    "pycharm": {
     "name": "#%%\n"
    }
   },
   "outputs": [
    {
     "name": "stdout",
     "output_type": "stream",
     "text": [
      "dict_keys(['138', '140', '141', '142', '143', '145', '146', '147', '148', '150', '151', '152', '153', '154', '156', '158', '159', '223', '231', '232'])\n",
      "==================================================\n",
      "dict_keys(['id', 'title', 'history'])\n",
      "==================================================\n",
      "138\n",
      "==================================================\n",
      "Sevilla\n",
      "==================================================\n",
      "{'h_a': 'a', 'xG': 3.34997, 'xGA': 2.39239, 'npxG': 3.34997, 'npxGA': 1.64976, 'ppda': {'att': 252, 'def': 19}, 'ppda_allowed': {'att': 263, 'def': 20}, 'deep': 12, 'deep_allowed': 5, 'scored': 4, 'missed': 1, 'xpts': 1.9829999999999999, 'result': 'w', 'date': '2018-08-19 21:15:00', 'wins': 1, 'draws': 0, 'loses': 0, 'pts': 3, 'npxGD': 1.70021}\n"
     ]
    }
   ],
   "source": [
    "\n",
    "data = json.loads(json_data)\n",
    "print(data.keys())\n",
    "print('='*50)\n",
    "print(data['138'].keys())\n",
    "print('='*50)\n",
    "print(data['138']['id'])\n",
    "print('='*50)\n",
    "print(data['138']['title'])\n",
    "print('='*50)\n",
    "print(data['138']['history'][0])\n"
   ]
  },
  {
   "cell_type": "code",
   "execution_count": 13,
   "metadata": {
    "colab": {},
    "colab_type": "code",
    "id": "jKIs5btTK83S",
    "pycharm": {
     "name": "#%%\n"
    }
   },
   "outputs": [],
   "source": [
    "cols_to_sum = ['xG', 'xGA', 'npxG', 'npxGA', 'deep', 'deep_allowed', 'scored', 'missed', 'xpts', 'wins', 'draws', 'loses', 'pts', 'npxGD']\n",
    "cols_to_mean = ['ppda_coef', 'oppda_coef']"
   ]
  },
  {
   "cell_type": "code",
   "execution_count": 14,
   "metadata": {
    "colab": {},
    "colab_type": "code",
    "id": "Owv3orawUvEq",
    "pycharm": {
     "name": "#%%\n"
    }
   },
   "outputs": [],
   "source": [
    "frames = []\n",
    "for team, df in dataframes.items():\n",
    "  sum_data = pd.DataFrame(df[cols_to_sum].sum()).transpose()\n",
    "  mean_data = pd.DataFrame(df[cols_to_mean].mean()).transpose()\n",
    "  final_df = sum_data.join(mean_data)\n",
    "  final_df['team'] = team\n",
    "  final_df['matches'] = len(df)\n",
    "  frames.append(final_df)\n",
    "  \n",
    "full_stat = pd.concat(frames)"
   ]
  },
  {
   "cell_type": "code",
   "execution_count": 15,
   "metadata": {
    "colab": {},
    "colab_type": "code",
    "id": "DB_FQAsvYJiY",
    "pycharm": {
     "name": "#%%\n"
    }
   },
   "outputs": [],
   "source": [
    "full_stat = full_stat[['team', 'matches', 'wins', 'draws', 'loses', 'scored', 'missed', 'pts', 'xG', 'npxG', 'xGA', 'npxGA', 'npxGD', 'ppda_coef', 'oppda_coef', 'deep', 'deep_allowed', 'xpts']]\n",
    "full_stat.sort_values('pts', ascending=False, inplace=True)\n",
    "full_stat.reset_index(inplace=True, drop=True)\n",
    "full_stat['position'] = range(1,len(full_stat)+1)"
   ]
  },
  {
   "cell_type": "code",
   "execution_count": 16,
   "metadata": {
    "colab": {},
    "colab_type": "code",
    "id": "QdX6bilkuDM9",
    "pycharm": {
     "name": "#%%\n"
    }
   },
   "outputs": [],
   "source": [
    "full_stat['xG_diff'] = full_stat['xG'] - full_stat['scored']\n",
    "full_stat['xGA_diff'] = full_stat['xGA'] - full_stat['missed']\n",
    "full_stat['xpts_diff'] = full_stat['xpts'] - full_stat['pts']"
   ]
  },
  {
   "cell_type": "code",
   "execution_count": 17,
   "metadata": {
    "colab": {},
    "colab_type": "code",
    "id": "LA2gEhIuwvZt",
    "pycharm": {
     "name": "#%%\n"
    }
   },
   "outputs": [],
   "source": [
    "cols_to_int = ['wins', 'draws', 'loses', 'scored', 'missed', 'pts', 'deep', 'deep_allowed']\n",
    "full_stat[cols_to_int] = full_stat[cols_to_int].astype(int)"
   ]
  },
  {
   "cell_type": "code",
   "execution_count": 18,
   "metadata": {
    "colab": {
     "base_uri": "https://localhost:8080/",
     "height": 437
    },
    "colab_type": "code",
    "id": "gPAF9Yetyt7B",
    "outputId": "74b29818-a8ab-47bf-d67c-15fc2b04584c",
    "pycharm": {
     "name": "#%%\n"
    }
   },
   "outputs": [
    {
     "data": {
      "text/plain": "   position             team  matches  wins  draws  loses  scored  missed  \\\n0         1        Barcelona       38    26      9      3      90      36   \n1         2  Atletico Madrid       38    22     10      6      55      29   \n2         3      Real Madrid       38    21      5     12      63      46   \n3         4         Valencia       38    15     16      7      51      35   \n4         5          Sevilla       38    17      8     13      62      47   \n5         6           Getafe       38    15     14      9      48      35   \n6         7         Espanyol       38    14     11     13      48      50   \n7         8    Athletic Club       38    13     14     11      41      45   \n8         9    Real Sociedad       38    13     11     14      45      46   \n9        10           Alaves       38    13     11     14      39      50   \n\n   pts    xG  ...   xGA  xGA_diff  npxGA  npxGD  ppda_coef  oppda_coef  deep  \\\n0   87 83.28  ... 44.93      8.93  43.44  33.14       9.02       16.40   417   \n1   76 51.87  ... 41.43     12.43  37.72  11.01      11.07       11.10   252   \n2   68 68.65  ... 48.68      2.68  42.73  19.24       8.90       14.78   341   \n3   61 61.88  ... 42.85      7.85  36.91  19.66      12.96        9.47   278   \n4   59 69.16  ... 46.71     -0.29  41.51  23.03      10.65       10.02   321   \n5   59 47.03  ... 44.23      9.23  39.02   3.56       8.77        5.70   186   \n6   53 50.16  ... 54.62      4.62  48.55  -1.36       9.86        9.82   241   \n7   53 44.44  ... 47.16      2.16  43.44  -4.53       8.30       11.30   221   \n8   50 47.99  ... 48.09      2.09  45.68  -5.13       9.94        9.49   194   \n9   50 40.87  ... 54.53      4.53  50.07 -11.43      11.23        7.10   129   \n\n   deep_allowed  xpts  xpts_diff  \n0           171 73.96     -13.04  \n1           190 59.43     -16.57  \n2           168 64.77      -3.23  \n3           215 65.16       4.16  \n4           211 65.08       6.08  \n5           196 53.19      -5.81  \n6           241 50.09      -2.91  \n7           185 50.01      -2.99  \n8           208 51.13       1.13  \n9           270 44.02      -5.98  \n\n[10 rows x 22 columns]",
      "text/html": "<div>\n<style scoped>\n    .dataframe tbody tr th:only-of-type {\n        vertical-align: middle;\n    }\n\n    .dataframe tbody tr th {\n        vertical-align: top;\n    }\n\n    .dataframe thead th {\n        text-align: right;\n    }\n</style>\n<table border=\"1\" class=\"dataframe\">\n  <thead>\n    <tr style=\"text-align: right;\">\n      <th></th>\n      <th>position</th>\n      <th>team</th>\n      <th>matches</th>\n      <th>wins</th>\n      <th>draws</th>\n      <th>loses</th>\n      <th>scored</th>\n      <th>missed</th>\n      <th>pts</th>\n      <th>xG</th>\n      <th>...</th>\n      <th>xGA</th>\n      <th>xGA_diff</th>\n      <th>npxGA</th>\n      <th>npxGD</th>\n      <th>ppda_coef</th>\n      <th>oppda_coef</th>\n      <th>deep</th>\n      <th>deep_allowed</th>\n      <th>xpts</th>\n      <th>xpts_diff</th>\n    </tr>\n  </thead>\n  <tbody>\n    <tr>\n      <th>0</th>\n      <td>1</td>\n      <td>Barcelona</td>\n      <td>38</td>\n      <td>26</td>\n      <td>9</td>\n      <td>3</td>\n      <td>90</td>\n      <td>36</td>\n      <td>87</td>\n      <td>83.28</td>\n      <td>...</td>\n      <td>44.93</td>\n      <td>8.93</td>\n      <td>43.44</td>\n      <td>33.14</td>\n      <td>9.02</td>\n      <td>16.40</td>\n      <td>417</td>\n      <td>171</td>\n      <td>73.96</td>\n      <td>-13.04</td>\n    </tr>\n    <tr>\n      <th>1</th>\n      <td>2</td>\n      <td>Atletico Madrid</td>\n      <td>38</td>\n      <td>22</td>\n      <td>10</td>\n      <td>6</td>\n      <td>55</td>\n      <td>29</td>\n      <td>76</td>\n      <td>51.87</td>\n      <td>...</td>\n      <td>41.43</td>\n      <td>12.43</td>\n      <td>37.72</td>\n      <td>11.01</td>\n      <td>11.07</td>\n      <td>11.10</td>\n      <td>252</td>\n      <td>190</td>\n      <td>59.43</td>\n      <td>-16.57</td>\n    </tr>\n    <tr>\n      <th>2</th>\n      <td>3</td>\n      <td>Real Madrid</td>\n      <td>38</td>\n      <td>21</td>\n      <td>5</td>\n      <td>12</td>\n      <td>63</td>\n      <td>46</td>\n      <td>68</td>\n      <td>68.65</td>\n      <td>...</td>\n      <td>48.68</td>\n      <td>2.68</td>\n      <td>42.73</td>\n      <td>19.24</td>\n      <td>8.90</td>\n      <td>14.78</td>\n      <td>341</td>\n      <td>168</td>\n      <td>64.77</td>\n      <td>-3.23</td>\n    </tr>\n    <tr>\n      <th>3</th>\n      <td>4</td>\n      <td>Valencia</td>\n      <td>38</td>\n      <td>15</td>\n      <td>16</td>\n      <td>7</td>\n      <td>51</td>\n      <td>35</td>\n      <td>61</td>\n      <td>61.88</td>\n      <td>...</td>\n      <td>42.85</td>\n      <td>7.85</td>\n      <td>36.91</td>\n      <td>19.66</td>\n      <td>12.96</td>\n      <td>9.47</td>\n      <td>278</td>\n      <td>215</td>\n      <td>65.16</td>\n      <td>4.16</td>\n    </tr>\n    <tr>\n      <th>4</th>\n      <td>5</td>\n      <td>Sevilla</td>\n      <td>38</td>\n      <td>17</td>\n      <td>8</td>\n      <td>13</td>\n      <td>62</td>\n      <td>47</td>\n      <td>59</td>\n      <td>69.16</td>\n      <td>...</td>\n      <td>46.71</td>\n      <td>-0.29</td>\n      <td>41.51</td>\n      <td>23.03</td>\n      <td>10.65</td>\n      <td>10.02</td>\n      <td>321</td>\n      <td>211</td>\n      <td>65.08</td>\n      <td>6.08</td>\n    </tr>\n    <tr>\n      <th>5</th>\n      <td>6</td>\n      <td>Getafe</td>\n      <td>38</td>\n      <td>15</td>\n      <td>14</td>\n      <td>9</td>\n      <td>48</td>\n      <td>35</td>\n      <td>59</td>\n      <td>47.03</td>\n      <td>...</td>\n      <td>44.23</td>\n      <td>9.23</td>\n      <td>39.02</td>\n      <td>3.56</td>\n      <td>8.77</td>\n      <td>5.70</td>\n      <td>186</td>\n      <td>196</td>\n      <td>53.19</td>\n      <td>-5.81</td>\n    </tr>\n    <tr>\n      <th>6</th>\n      <td>7</td>\n      <td>Espanyol</td>\n      <td>38</td>\n      <td>14</td>\n      <td>11</td>\n      <td>13</td>\n      <td>48</td>\n      <td>50</td>\n      <td>53</td>\n      <td>50.16</td>\n      <td>...</td>\n      <td>54.62</td>\n      <td>4.62</td>\n      <td>48.55</td>\n      <td>-1.36</td>\n      <td>9.86</td>\n      <td>9.82</td>\n      <td>241</td>\n      <td>241</td>\n      <td>50.09</td>\n      <td>-2.91</td>\n    </tr>\n    <tr>\n      <th>7</th>\n      <td>8</td>\n      <td>Athletic Club</td>\n      <td>38</td>\n      <td>13</td>\n      <td>14</td>\n      <td>11</td>\n      <td>41</td>\n      <td>45</td>\n      <td>53</td>\n      <td>44.44</td>\n      <td>...</td>\n      <td>47.16</td>\n      <td>2.16</td>\n      <td>43.44</td>\n      <td>-4.53</td>\n      <td>8.30</td>\n      <td>11.30</td>\n      <td>221</td>\n      <td>185</td>\n      <td>50.01</td>\n      <td>-2.99</td>\n    </tr>\n    <tr>\n      <th>8</th>\n      <td>9</td>\n      <td>Real Sociedad</td>\n      <td>38</td>\n      <td>13</td>\n      <td>11</td>\n      <td>14</td>\n      <td>45</td>\n      <td>46</td>\n      <td>50</td>\n      <td>47.99</td>\n      <td>...</td>\n      <td>48.09</td>\n      <td>2.09</td>\n      <td>45.68</td>\n      <td>-5.13</td>\n      <td>9.94</td>\n      <td>9.49</td>\n      <td>194</td>\n      <td>208</td>\n      <td>51.13</td>\n      <td>1.13</td>\n    </tr>\n    <tr>\n      <th>9</th>\n      <td>10</td>\n      <td>Alaves</td>\n      <td>38</td>\n      <td>13</td>\n      <td>11</td>\n      <td>14</td>\n      <td>39</td>\n      <td>50</td>\n      <td>50</td>\n      <td>40.87</td>\n      <td>...</td>\n      <td>54.53</td>\n      <td>4.53</td>\n      <td>50.07</td>\n      <td>-11.43</td>\n      <td>11.23</td>\n      <td>7.10</td>\n      <td>129</td>\n      <td>270</td>\n      <td>44.02</td>\n      <td>-5.98</td>\n    </tr>\n  </tbody>\n</table>\n<p>10 rows × 22 columns</p>\n</div>"
     },
     "execution_count": 18,
     "metadata": {},
     "output_type": "execute_result"
    }
   ],
   "source": [
    "col_order = ['position','team', 'matches', 'wins', 'draws', 'loses', 'scored', 'missed', 'pts', 'xG', 'xG_diff', 'npxG', 'xGA', 'xGA_diff', 'npxGA', 'npxGD', 'ppda_coef', 'oppda_coef', 'deep', 'deep_allowed', 'xpts', 'xpts_diff']\n",
    "full_stat = full_stat[col_order]\n",
    "pd.options.display.float_format = '{:,.2f}'.format\n",
    "full_stat.head(10)"
   ]
  },
  {
   "cell_type": "code",
   "execution_count": 20,
   "metadata": {
    "colab": {
     "base_uri": "https://localhost:8080/",
     "height": 300
    },
    "colab_type": "code",
    "id": "YTHZPUJmmK2F",
    "outputId": "c454be03-424c-4a5a-df43-b99dd08e6ec8",
    "pycharm": {
     "name": "#%%\n"
    }
   },
   "outputs": [
    {
     "data": {
      "text/plain": "                                  team  matches  wins  draws  loses  scored  \\\n             position                                                         \nLa_liga 2014 1               Barcelona       38    30      4      4     110   \n             2             Real Madrid       38    30      2      6     118   \n             3         Atletico Madrid       38    23      9      6      67   \n             4                Valencia       38    22     11      5      70   \n             5                 Sevilla       38    23      7      8      71   \n...                                ...      ...   ...    ...    ...     ...   \nLigue_1 2021 16          Clermont Foot       38     9      9     20      38   \n             17                Lorient       38     8     12     18      35   \n             18          Saint-Etienne       38     7     11     20      42   \n             19                   Metz       38     6     13     19      35   \n             20               Bordeaux       38     6     13     19      52   \n\n                       missed  pts     xG  xG_diff  ...   xGA  xGA_diff  \\\n             position                               ...                   \nLa_liga 2014 1             21   94 102.98    -7.02  ... 28.44      7.44   \n             2             38   92  95.77   -22.23  ... 42.61      4.61   \n             3             29   78  57.05    -9.95  ... 29.07      0.07   \n             4             32   77  55.06   -14.94  ... 39.39      7.39   \n             5             45   76  69.53    -1.47  ... 47.86      2.86   \n...                       ...  ...    ...      ...  ...   ...       ...   \nLigue_1 2021 16            69   36  42.07     4.07  ... 55.85    -13.15   \n             17            63   36  39.32     4.32  ... 54.50     -8.50   \n             18            77   32  40.18    -1.82  ... 64.76    -12.24   \n             19            69   31  30.15    -4.85  ... 71.65      2.65   \n             20            91   31  46.28    -5.72  ... 69.82    -21.18   \n\n                       npxGA  npxGD  ppda_coef  oppda_coef  deep  \\\n             position                                              \nLa_liga 2014 1         24.73  73.05       5.68       16.37   489   \n             2         38.89  47.21      10.21       12.93   351   \n             3         26.84  25.75       8.98        9.24   197   \n             4         33.45  16.26       8.71        7.87   203   \n             5         41.92  20.18       8.28        9.48   305   \n...                      ...    ...        ...         ...   ...   \nLigue_1 2021 16        52.05 -12.39      14.82       11.75   159   \n             17        49.94 -12.90      15.65       10.54   163   \n             18        58.68 -22.30      12.01       10.96   146   \n             19        67.85 -38.46      15.37       10.14    84   \n             20        62.84 -19.59      12.45       11.77   173   \n\n                       deep_allowed  xpts  xpts_diff  \n             position                                 \nLa_liga 2014 1                  114 94.08       0.08  \n             2                  153 81.75     -10.25  \n             3                  123 73.14      -4.86  \n             4                  172 63.71     -13.29  \n             5                  168 67.39      -8.61  \n...                             ...   ...        ...  \nLigue_1 2021 16                 212 43.38       7.38  \n             17                 221 40.73       4.73  \n             18                 196 39.69       7.69  \n             19                 265 26.71      -4.29  \n             20                 238 38.21       7.21  \n\n[784 rows x 21 columns]",
      "text/html": "<div>\n<style scoped>\n    .dataframe tbody tr th:only-of-type {\n        vertical-align: middle;\n    }\n\n    .dataframe tbody tr th {\n        vertical-align: top;\n    }\n\n    .dataframe thead th {\n        text-align: right;\n    }\n</style>\n<table border=\"1\" class=\"dataframe\">\n  <thead>\n    <tr style=\"text-align: right;\">\n      <th></th>\n      <th></th>\n      <th></th>\n      <th>team</th>\n      <th>matches</th>\n      <th>wins</th>\n      <th>draws</th>\n      <th>loses</th>\n      <th>scored</th>\n      <th>missed</th>\n      <th>pts</th>\n      <th>xG</th>\n      <th>xG_diff</th>\n      <th>...</th>\n      <th>xGA</th>\n      <th>xGA_diff</th>\n      <th>npxGA</th>\n      <th>npxGD</th>\n      <th>ppda_coef</th>\n      <th>oppda_coef</th>\n      <th>deep</th>\n      <th>deep_allowed</th>\n      <th>xpts</th>\n      <th>xpts_diff</th>\n    </tr>\n    <tr>\n      <th></th>\n      <th></th>\n      <th>position</th>\n      <th></th>\n      <th></th>\n      <th></th>\n      <th></th>\n      <th></th>\n      <th></th>\n      <th></th>\n      <th></th>\n      <th></th>\n      <th></th>\n      <th></th>\n      <th></th>\n      <th></th>\n      <th></th>\n      <th></th>\n      <th></th>\n      <th></th>\n      <th></th>\n      <th></th>\n      <th></th>\n      <th></th>\n    </tr>\n  </thead>\n  <tbody>\n    <tr>\n      <th rowspan=\"5\" valign=\"top\">La_liga</th>\n      <th rowspan=\"5\" valign=\"top\">2014</th>\n      <th>1</th>\n      <td>Barcelona</td>\n      <td>38</td>\n      <td>30</td>\n      <td>4</td>\n      <td>4</td>\n      <td>110</td>\n      <td>21</td>\n      <td>94</td>\n      <td>102.98</td>\n      <td>-7.02</td>\n      <td>...</td>\n      <td>28.44</td>\n      <td>7.44</td>\n      <td>24.73</td>\n      <td>73.05</td>\n      <td>5.68</td>\n      <td>16.37</td>\n      <td>489</td>\n      <td>114</td>\n      <td>94.08</td>\n      <td>0.08</td>\n    </tr>\n    <tr>\n      <th>2</th>\n      <td>Real Madrid</td>\n      <td>38</td>\n      <td>30</td>\n      <td>2</td>\n      <td>6</td>\n      <td>118</td>\n      <td>38</td>\n      <td>92</td>\n      <td>95.77</td>\n      <td>-22.23</td>\n      <td>...</td>\n      <td>42.61</td>\n      <td>4.61</td>\n      <td>38.89</td>\n      <td>47.21</td>\n      <td>10.21</td>\n      <td>12.93</td>\n      <td>351</td>\n      <td>153</td>\n      <td>81.75</td>\n      <td>-10.25</td>\n    </tr>\n    <tr>\n      <th>3</th>\n      <td>Atletico Madrid</td>\n      <td>38</td>\n      <td>23</td>\n      <td>9</td>\n      <td>6</td>\n      <td>67</td>\n      <td>29</td>\n      <td>78</td>\n      <td>57.05</td>\n      <td>-9.95</td>\n      <td>...</td>\n      <td>29.07</td>\n      <td>0.07</td>\n      <td>26.84</td>\n      <td>25.75</td>\n      <td>8.98</td>\n      <td>9.24</td>\n      <td>197</td>\n      <td>123</td>\n      <td>73.14</td>\n      <td>-4.86</td>\n    </tr>\n    <tr>\n      <th>4</th>\n      <td>Valencia</td>\n      <td>38</td>\n      <td>22</td>\n      <td>11</td>\n      <td>5</td>\n      <td>70</td>\n      <td>32</td>\n      <td>77</td>\n      <td>55.06</td>\n      <td>-14.94</td>\n      <td>...</td>\n      <td>39.39</td>\n      <td>7.39</td>\n      <td>33.45</td>\n      <td>16.26</td>\n      <td>8.71</td>\n      <td>7.87</td>\n      <td>203</td>\n      <td>172</td>\n      <td>63.71</td>\n      <td>-13.29</td>\n    </tr>\n    <tr>\n      <th>5</th>\n      <td>Sevilla</td>\n      <td>38</td>\n      <td>23</td>\n      <td>7</td>\n      <td>8</td>\n      <td>71</td>\n      <td>45</td>\n      <td>76</td>\n      <td>69.53</td>\n      <td>-1.47</td>\n      <td>...</td>\n      <td>47.86</td>\n      <td>2.86</td>\n      <td>41.92</td>\n      <td>20.18</td>\n      <td>8.28</td>\n      <td>9.48</td>\n      <td>305</td>\n      <td>168</td>\n      <td>67.39</td>\n      <td>-8.61</td>\n    </tr>\n    <tr>\n      <th>...</th>\n      <th>...</th>\n      <th>...</th>\n      <td>...</td>\n      <td>...</td>\n      <td>...</td>\n      <td>...</td>\n      <td>...</td>\n      <td>...</td>\n      <td>...</td>\n      <td>...</td>\n      <td>...</td>\n      <td>...</td>\n      <td>...</td>\n      <td>...</td>\n      <td>...</td>\n      <td>...</td>\n      <td>...</td>\n      <td>...</td>\n      <td>...</td>\n      <td>...</td>\n      <td>...</td>\n      <td>...</td>\n      <td>...</td>\n    </tr>\n    <tr>\n      <th rowspan=\"5\" valign=\"top\">Ligue_1</th>\n      <th rowspan=\"5\" valign=\"top\">2021</th>\n      <th>16</th>\n      <td>Clermont Foot</td>\n      <td>38</td>\n      <td>9</td>\n      <td>9</td>\n      <td>20</td>\n      <td>38</td>\n      <td>69</td>\n      <td>36</td>\n      <td>42.07</td>\n      <td>4.07</td>\n      <td>...</td>\n      <td>55.85</td>\n      <td>-13.15</td>\n      <td>52.05</td>\n      <td>-12.39</td>\n      <td>14.82</td>\n      <td>11.75</td>\n      <td>159</td>\n      <td>212</td>\n      <td>43.38</td>\n      <td>7.38</td>\n    </tr>\n    <tr>\n      <th>17</th>\n      <td>Lorient</td>\n      <td>38</td>\n      <td>8</td>\n      <td>12</td>\n      <td>18</td>\n      <td>35</td>\n      <td>63</td>\n      <td>36</td>\n      <td>39.32</td>\n      <td>4.32</td>\n      <td>...</td>\n      <td>54.50</td>\n      <td>-8.50</td>\n      <td>49.94</td>\n      <td>-12.90</td>\n      <td>15.65</td>\n      <td>10.54</td>\n      <td>163</td>\n      <td>221</td>\n      <td>40.73</td>\n      <td>4.73</td>\n    </tr>\n    <tr>\n      <th>18</th>\n      <td>Saint-Etienne</td>\n      <td>38</td>\n      <td>7</td>\n      <td>11</td>\n      <td>20</td>\n      <td>42</td>\n      <td>77</td>\n      <td>32</td>\n      <td>40.18</td>\n      <td>-1.82</td>\n      <td>...</td>\n      <td>64.76</td>\n      <td>-12.24</td>\n      <td>58.68</td>\n      <td>-22.30</td>\n      <td>12.01</td>\n      <td>10.96</td>\n      <td>146</td>\n      <td>196</td>\n      <td>39.69</td>\n      <td>7.69</td>\n    </tr>\n    <tr>\n      <th>19</th>\n      <td>Metz</td>\n      <td>38</td>\n      <td>6</td>\n      <td>13</td>\n      <td>19</td>\n      <td>35</td>\n      <td>69</td>\n      <td>31</td>\n      <td>30.15</td>\n      <td>-4.85</td>\n      <td>...</td>\n      <td>71.65</td>\n      <td>2.65</td>\n      <td>67.85</td>\n      <td>-38.46</td>\n      <td>15.37</td>\n      <td>10.14</td>\n      <td>84</td>\n      <td>265</td>\n      <td>26.71</td>\n      <td>-4.29</td>\n    </tr>\n    <tr>\n      <th>20</th>\n      <td>Bordeaux</td>\n      <td>38</td>\n      <td>6</td>\n      <td>13</td>\n      <td>19</td>\n      <td>52</td>\n      <td>91</td>\n      <td>31</td>\n      <td>46.28</td>\n      <td>-5.72</td>\n      <td>...</td>\n      <td>69.82</td>\n      <td>-21.18</td>\n      <td>62.84</td>\n      <td>-19.59</td>\n      <td>12.45</td>\n      <td>11.77</td>\n      <td>173</td>\n      <td>238</td>\n      <td>38.21</td>\n      <td>7.21</td>\n    </tr>\n  </tbody>\n</table>\n<p>784 rows × 21 columns</p>\n</div>"
     },
     "execution_count": 20,
     "metadata": {},
     "output_type": "execute_result"
    }
   ],
   "source": [
    "full_data = dict()\n",
    "for league in leagues:\n",
    "  \n",
    "  season_data = dict()\n",
    "  for season in seasons:    \n",
    "    url = base_url+'/'+league+'/'+season\n",
    "    res = requests.get(url)\n",
    "    soup = BeautifulSoup(res.content, \"lxml\")\n",
    "\n",
    "\n",
    "    scripts = soup.find_all('script')\n",
    "    \n",
    "    string_with_json_obj = ''\n",
    "\n",
    "\n",
    "    for el in scripts:\n",
    "        if 'teamsData' in str(el):\n",
    "          string_with_json_obj = str(el).strip()\n",
    "\n",
    "    ind_start = string_with_json_obj.index(\"('\")+2\n",
    "    ind_end = string_with_json_obj.index(\"')\")\n",
    "    json_data = string_with_json_obj[ind_start:ind_end]\n",
    "    json_data = json_data.encode('utf8').decode('unicode_escape')\n",
    "\n",
    "    data = json.loads(json_data)\n",
    "\n",
    "    teams = {}\n",
    "    for id in data.keys():\n",
    "      teams[id] = data[id]['title']\n",
    "\n",
    "    columns = []\n",
    "\n",
    "    values = []\n",
    "    for id in data.keys():\n",
    "      columns = list(data[id]['history'][0].keys())\n",
    "      values = list(data[id]['history'][0].values())\n",
    "      break\n",
    "      \n",
    "\n",
    "    dataframes = {}\n",
    "    for id, team in teams.items():\n",
    "      teams_data = []\n",
    "      for row in data[id]['history']:\n",
    "        teams_data.append(list(row.values()))\n",
    "\n",
    "      df = pd.DataFrame(teams_data, columns=columns)\n",
    "      dataframes[team] = df\n",
    "\n",
    "    for team, df in dataframes.items():\n",
    "      dataframes[team]['ppda_coef'] = dataframes[team]['ppda'].apply(lambda x: x['att']/x['def'] if x['def'] != 0 else 0)\n",
    "      dataframes[team]['oppda_coef'] = dataframes[team]['ppda_allowed'].apply(lambda x: x['att']/x['def'] if x['def'] != 0 else 0)\n",
    "      \n",
    "    cols_to_sum = ['xG', 'xGA', 'npxG', 'npxGA', 'deep', 'deep_allowed', 'scored', 'missed', 'xpts', 'wins', 'draws', 'loses', 'pts', 'npxGD']\n",
    "    cols_to_mean = ['ppda_coef', 'oppda_coef']\n",
    "    \n",
    "    frames = []\n",
    "    for team, df in dataframes.items():\n",
    "      sum_data = pd.DataFrame(df[cols_to_sum].sum()).transpose()\n",
    "      mean_data = pd.DataFrame(df[cols_to_mean].mean()).transpose()\n",
    "      final_df = sum_data.join(mean_data)\n",
    "      final_df['team'] = team\n",
    "      final_df['matches'] = len(df)\n",
    "      frames.append(final_df)\n",
    "\n",
    "    full_stat = pd.concat(frames)\n",
    "    \n",
    "    full_stat = full_stat[['team', 'matches', 'wins', 'draws', 'loses', 'scored', 'missed', 'pts', 'xG', 'npxG', 'xGA', 'npxGA', 'npxGD', 'ppda_coef', 'oppda_coef', 'deep', 'deep_allowed', 'xpts']]\n",
    "    full_stat.sort_values('pts', ascending=False, inplace=True)\n",
    "    full_stat.reset_index(inplace=True, drop=True)\n",
    "    full_stat['position'] = range(1,len(full_stat)+1)\n",
    "    \n",
    "    full_stat['xG_diff'] = full_stat['xG'] - full_stat['scored']\n",
    "    full_stat['xGA_diff'] = full_stat['xGA'] - full_stat['missed']\n",
    "    full_stat['xpts_diff'] = full_stat['xpts'] - full_stat['pts']\n",
    "    \n",
    "    cols_to_int = ['wins', 'draws', 'loses', 'scored', 'missed', 'pts', 'deep', 'deep_allowed']\n",
    "    full_stat[cols_to_int] = full_stat[cols_to_int].astype(int)\n",
    "    \n",
    "    col_order = ['position', 'team', 'matches', 'wins', 'draws', 'loses', 'scored', 'missed', 'pts', 'xG', 'xG_diff', 'npxG', 'xGA', 'xGA_diff', 'npxGA', 'npxGD', 'ppda_coef', 'oppda_coef', 'deep', 'deep_allowed', 'xpts', 'xpts_diff']\n",
    "    full_stat = full_stat[col_order]\n",
    "    full_stat = full_stat.set_index('position')\n",
    "\n",
    "    season_data[season] = full_stat\n",
    "  \n",
    "  df_season = pd.concat(season_data)\n",
    "  full_data[league] = df_season\n",
    "  \n",
    "data = pd.concat(full_data)\n",
    "data\n"
   ]
  },
  {
   "cell_type": "code",
   "execution_count": 28,
   "outputs": [],
   "source": [
    "data.to_csv('teams.csv')"
   ],
   "metadata": {
    "collapsed": false,
    "pycharm": {
     "name": "#%%\n"
    }
   }
  }
 ],
 "metadata": {
  "colab": {
   "collapsed_sections": [],
   "name": "web-scrapping-understatcom-for-xG-dataset.ipynb",
   "provenance": [],
   "toc_visible": true,
   "version": "0.3.2"
  },
  "kernelspec": {
   "display_name": "Python 3",
   "language": "python",
   "name": "python3"
  },
  "language_info": {
   "codemirror_mode": {
    "name": "ipython",
    "version": 3
   },
   "file_extension": ".py",
   "mimetype": "text/x-python",
   "name": "python",
   "nbconvert_exporter": "python",
   "pygments_lexer": "ipython3",
   "version": "3.6.3"
  }
 },
 "nbformat": 4,
 "nbformat_minor": 1
}